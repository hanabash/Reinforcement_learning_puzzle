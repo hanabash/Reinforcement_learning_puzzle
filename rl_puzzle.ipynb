{
  "nbformat": 4,
  "nbformat_minor": 0,
  "metadata": {
    "colab": {
      "name": "rl_puzzle.ipynb",
      "provenance": []
    },
    "kernelspec": {
      "name": "python3",
      "display_name": "Python 3"
    }
  },
  "cells": [
    {
      "cell_type": "code",
      "metadata": {
        "id": "NFSKkAsxhoZn",
        "colab_type": "code",
        "colab": {}
      },
      "source": [
        "import numpy as np\n",
        "import matplotlib.pyplot as plt\n",
        "import gym\n",
        "from gym import spaces\n",
        "import random"
      ],
      "execution_count": null,
      "outputs": []
    },
    {
      "cell_type": "code",
      "metadata": {
        "id": "As2nscwaz4hx",
        "colab_type": "code",
        "colab": {}
      },
      "source": [
        "class Environment(gym.Env):\n",
        "\n",
        "    def __init__(self):\n",
        "        self.board = np.zeros((4, 4))\n",
        "        starting_pos = [0,0]\n",
        "        self.board[tuple(starting_pos)] = 1\n",
        "\n",
        "        reward_one = [0,3]                 # reward_one = -7\n",
        "        self.board[tuple(reward_one)] = 0.6\n",
        "        reward_two = [1,1]                 # reward_two = +3                 \n",
        "        self.board[tuple(reward_two)] = 0.6\n",
        "        reward_three = [2,3]               # reward_three = -5\n",
        "        self.board[tuple(reward_three)] = 0.6\n",
        "        reward_four = [3,0]                # reward_four = +5\n",
        "        self.board[tuple(reward_four)] = 0.6\n",
        "\n",
        "        goal_pos = [3,1]                   # reward for goal = +10\n",
        "        self.board[tuple(goal_pos)] = 0.2\n",
        "\n",
        "        self.total_reward = 0\n",
        "\n",
        "        self.obs_space = spaces.Discrete(16)\n",
        "        self.action_space = spaces.Discrete(4)\n",
        "        self.max_timesteps = 50\n",
        "\n",
        "    def reset(self):\n",
        "        self.timestep = 0\n",
        "        self.total_reward = 0\n",
        "        self.board = np.zeros((4,4))\n",
        "\n",
        "        x, y = random.choice(list(state_lookup))\n",
        "        self.cur_pos = [x,y]\n",
        "        self.board[tuple(self.cur_pos)] = 1\n",
        "\n",
        "        reward_one = [0,3]                 # reward_one = -7\n",
        "        self.board[tuple(reward_one)] = 0.6\n",
        "        reward_two = [1,1]                 # reward_two = +3                 \n",
        "        self.board[tuple(reward_two)] = 0.6\n",
        "        reward_three = [2,3]               # reward_three = -5\n",
        "        self.board[tuple(reward_three)] = 0.6\n",
        "        reward_four = [3,0]                # reward_four = +5\n",
        "        self.board[tuple(reward_four)] = 0.6\n",
        "\n",
        "        self.goal_pos = [3,1]                   # reward for goal = +10\n",
        "        self.board[tuple(self.goal_pos)] = 0.2\n",
        "\n",
        "        obs = self.board.flatten()\n",
        "\n",
        "        return obs, self.cur_pos\n",
        "\n",
        "    \"\"\" actions defined as: 0 --> up, 1 --> down, 2 --> right, 3 --> left \"\"\"\n",
        "    def step(self, action):\n",
        "        if action == 0:\n",
        "          self.cur_pos[0] -= 1\n",
        "        elif action == 1:\n",
        "          self.cur_pos[0] += 1\n",
        "        elif action == 2:\n",
        "          self.cur_pos[1] += 1\n",
        "        elif action == 3:\n",
        "          self.cur_pos[1] -=1\n",
        "\n",
        "        self.cur_pos = np.clip(self.cur_pos, 0,3)\n",
        "        self.board = np.zeros((4,4))\n",
        "\n",
        "        reward_one = [0,3]                 # reward_one = -7\n",
        "        self.board[tuple(reward_one)] = 0.6\n",
        "        reward_two = [1,1]                 # reward_two = +3                 \n",
        "        self.board[tuple(reward_two)] = 0.6\n",
        "        reward_three = [2,3]               # reward_three = -5\n",
        "        self.board[tuple(reward_three)] = 0.6\n",
        "        reward_four = [3,0]                # reward_four = +5\n",
        "        self.board[tuple(reward_four)] = 0.6\n",
        "\n",
        "        self.board[tuple(self.goal_pos)] = 0.2  # reward for goal = +10\n",
        "        self.board[tuple(self.cur_pos)] = 1\n",
        "\n",
        "        obs = self.board\n",
        "\n",
        "        if(tuple(self.cur_pos) == tuple(reward_one)):\n",
        "          self.total_reward = -7\n",
        "        elif(tuple(self.cur_pos) == tuple(reward_two)):\n",
        "          self.total_reward = 3\n",
        "        elif(tuple(self.cur_pos) == tuple(reward_three)):\n",
        "          self.total_reward = -5\n",
        "        elif(tuple(self.cur_pos) == tuple(reward_four)):\n",
        "          self.total_reward = 5\n",
        "        elif(self.cur_pos == self.goal_pos).all():\n",
        "          self.total_reward = 10\n",
        "        else:\n",
        "          self.total_reward = 0\n",
        "\n",
        "        self.timestep += 1\n",
        "        # done = True if (self.timestep >= self.max_timesteps) or (self.cur_pos == self.goal_pos).all() else False\n",
        "        done = True if (self.cur_pos == self.goal_pos).all() else False\n",
        "        return obs, self.cur_pos, self.total_reward, done\n",
        "\n",
        "    def render(self):\n",
        "        plt.imshow(self.board)"
      ],
      "execution_count": null,
      "outputs": []
    },
    {
      "cell_type": "code",
      "metadata": {
        "id": "Oa2RvHo1L40i",
        "colab_type": "code",
        "colab": {}
      },
      "source": [
        "class Stochastic_Environment(gym.Env):\n",
        "\n",
        "    def __init__(self):\n",
        "        self.board = np.zeros((4, 4))\n",
        "        starting_pos = [0,0]\n",
        "        self.board[tuple(starting_pos)] = 1\n",
        "\n",
        "        reward_one = [0,3]                 # reward_one = -7\n",
        "        self.board[tuple(reward_one)] = 0.6\n",
        "        reward_two = [1,1]                 # reward_two = +3                 \n",
        "        self.board[tuple(reward_two)] = 0.6\n",
        "        reward_three = [2,3]               # reward_three = -5\n",
        "        self.board[tuple(reward_three)] = 0.6\n",
        "        reward_four = [3,0]                # reward_four = +5\n",
        "        self.board[tuple(reward_four)] = 0.6\n",
        "\n",
        "        goal_pos = [3,1]                        # reward for goal = +10\n",
        "        self.board[tuple(goal_pos)] = 0.2\n",
        "\n",
        "        self.total_reward = 0\n",
        "\n",
        "        self.obs_space = spaces.Discrete(16)\n",
        "        self.action_space = spaces.Discrete(4)\n",
        "        self.max_timesteps = 50\n",
        "\n",
        "    def reset(self):\n",
        "        self.timestep = 0\n",
        "        self.total_reward = 0\n",
        "        self.board = np.zeros((4,4))\n",
        "\n",
        "        x, y = random.choice(list(state_lookup))\n",
        "        self.cur_pos = [x,y]\n",
        "        self.board[tuple(self.cur_pos)] = 1\n",
        "\n",
        "        reward_one = [0,3]                 # reward_one = -7\n",
        "        self.board[tuple(reward_one)] = 0.6\n",
        "        reward_two = [1,1]                 # reward_two = +3                 \n",
        "        self.board[tuple(reward_two)] = 0.6\n",
        "        reward_three = [2,3]               # reward_three = -5\n",
        "        self.board[tuple(reward_three)] = 0.6\n",
        "        reward_four = [3,0]                # reward_four = +5\n",
        "        self.board[tuple(reward_four)] = 0.6\n",
        "\n",
        "        self.goal_pos = [3,1]                   # reward for goal = +10\n",
        "        self.board[tuple(self.goal_pos)] = 0.2\n",
        "\n",
        "        obs = self.board.flatten()\n",
        "\n",
        "        return obs, self.cur_pos\n",
        "\n",
        "    \"\"\" actions defined as: 0 --> up, 1 --> down, 2 --> right, 3 --> left \"\"\"\n",
        "    def step(self, action):\n",
        "        rand = np.random.random()\n",
        "\n",
        "        if action == 0:\n",
        "          if(rand < 0.90):\n",
        "            self.cur_pos[0] -= 1\n",
        "          else:\n",
        "            self.cur_pos[1] -=1\n",
        "        elif action == 1:\n",
        "          if rand < 0.92:\n",
        "            self.cur_pos[0] += 1\n",
        "          else:\n",
        "            self.cur_pos[1] += 1\n",
        "        elif action == 2:\n",
        "          if rand < 0.95:\n",
        "            self.cur_pos[1] += 1\n",
        "          else:\n",
        "            self.cur_pos[0] -= 1\n",
        "        elif action == 3:\n",
        "          if rand < 0.93:\n",
        "            self.cur_pos[1] -=1\n",
        "          else:\n",
        "            self.cur_pos[0] += 1\n",
        "\n",
        "        self.cur_pos = np.clip(self.cur_pos, 0,3)\n",
        "        self.board = np.zeros((4,4))\n",
        "\n",
        "        reward_one = [0,3]                 # reward_one = -7\n",
        "        self.board[tuple(reward_one)] = 0.6\n",
        "        reward_two = [1,1]                 # reward_two = +3                 \n",
        "        self.board[tuple(reward_two)] = 0.6\n",
        "        reward_three = [2,3]               # reward_three = -5\n",
        "        self.board[tuple(reward_three)] = 0.6\n",
        "        reward_four = [3,0]                # reward_four = +5\n",
        "        self.board[tuple(reward_four)] = 0.6\n",
        "\n",
        "        self.board[tuple(self.goal_pos)] = 0.2  # reward for goal = +10\n",
        "        self.board[tuple(self.cur_pos)] = 1\n",
        "\n",
        "        obs = self.board\n",
        "\n",
        "        if(tuple(self.cur_pos) == tuple(reward_one)):\n",
        "          self.total_reward = -7\n",
        "        elif(tuple(self.cur_pos) == tuple(reward_two)):\n",
        "          self.total_reward = 3\n",
        "        elif(tuple(self.cur_pos) == tuple(reward_three)):\n",
        "          self.total_reward = -5\n",
        "        elif(tuple(self.cur_pos) == tuple(reward_four)):\n",
        "          self.total_reward = 5\n",
        "        elif(self.cur_pos == self.goal_pos).all():\n",
        "          self.total_reward = 10\n",
        "        else:\n",
        "          self.total_reward = 0\n",
        "\n",
        "        self.timestep += 1\n",
        "        done = True if (self.timestep >= self.max_timesteps) or (self.cur_pos == self.goal_pos).all() else False\n",
        "        return obs, self.cur_pos, self.total_reward, done\n",
        "\n",
        "    def render(self):\n",
        "        plt.imshow(self.board)"
      ],
      "execution_count": null,
      "outputs": []
    },
    {
      "cell_type": "code",
      "metadata": {
        "id": "X8FzJFozz54S",
        "colab_type": "code",
        "colab": {}
      },
      "source": [
        "class Agent:\n",
        "\n",
        "    def __init__(self, env):\n",
        "        self.env = env\n",
        "        self.obs_space = env.obs_space\n",
        "        self.action_space = env.action_space\n",
        "\n",
        "    def step(self, cur_pos):\n",
        "        return np.argmax(q[cur_pos])"
      ],
      "execution_count": null,
      "outputs": []
    },
    {
      "cell_type": "code",
      "metadata": {
        "id": "zCjPkNMD2sYA",
        "colab_type": "code",
        "colab": {}
      },
      "source": [
        "\"\"\" Used to find corresponding state number for the tuple of the state \"\"\"\n",
        "\n",
        "state_lookup = {tuple([0,0]): 0, tuple([0,1]): 1, tuple([0,2]): 2, tuple([0,3]): 3, \n",
        "                tuple([1,0]): 4, tuple([1,1]): 5, tuple([1,2]): 6, tuple([1,3]): 7,\n",
        "                tuple([2,0]): 8, tuple([2,1]): 9, tuple([2,2]): 10, tuple([2,3]): 11,\n",
        "                tuple([3,0]): 12, tuple([3,1]): 13, tuple([3,2]): 14, tuple([3,3]): 15}"
      ],
      "execution_count": null,
      "outputs": []
    },
    {
      "cell_type": "code",
      "metadata": {
        "id": "BJX3CxDXTB_k",
        "colab_type": "code",
        "colab": {}
      },
      "source": [
        "def q_learning(env, alpha, epsilon):\n",
        "    q = np.zeros((16,4)) \n",
        "\n",
        "    a = alpha\n",
        "    e = epsilon\n",
        "\n",
        "    gamma = 0.6\n",
        "\n",
        "    for episode in range(5000):\n",
        "        obs, cur_pos = env.reset()\n",
        "        s = state_lookup[tuple(cur_pos)]\n",
        "        done = False\n",
        "\n",
        "        while not done:\n",
        "          if np.random.random() < e:\n",
        "              action = np.random.choice([0,1,2,3])\n",
        "          else:\n",
        "              action = np.argmax(q[s])\n",
        "\n",
        "          next_obs, next_pos, reward, done = env.step(action)\n",
        "          s_prime = state_lookup[tuple(next_pos)]\n",
        "\n",
        "          q[s, action] += a * (reward + (gamma * np.max(q[s_prime])) - q[s, action])\n",
        "\n",
        "          s = s_prime\n",
        "\n",
        "    return q\n"
      ],
      "execution_count": null,
      "outputs": []
    },
    {
      "cell_type": "code",
      "metadata": {
        "id": "kUPA7V5_aygv",
        "colab_type": "code",
        "colab": {
          "base_uri": "https://localhost:8080/",
          "height": 289
        },
        "outputId": "f6357e35-ce01-49be-ad3c-aa4299f91d2f"
      },
      "source": [
        "\"\"\" Uncomment only the first block when testing with Deterministic Environment\n",
        "    Uncomment only the second when testing Stochastic Environment \"\"\"\n",
        "\n",
        "env = Environment()\n",
        "q = q_learning(env, 0.9, 0.2)\n",
        "print(q)\n",
        "\n",
        "# stoc_env = Stochastic_Environment()\n",
        "# q = q_learning(stoc_env, 0.9, 0.2)\n",
        "# print(q)"
      ],
      "execution_count": null,
      "outputs": [
        {
          "output_type": "stream",
          "text": [
            "[[ 4.32        7.2         7.2         4.32      ]\n",
            " [ 7.2        12.          4.32        4.32      ]\n",
            " [ 4.32        7.2        -4.408       7.2       ]\n",
            " [-4.408       4.32       -4.408       4.32      ]\n",
            " [ 4.32       12.         12.          7.2       ]\n",
            " [ 7.2        15.          7.2         7.2       ]\n",
            " [ 4.32        9.          4.32       12.        ]\n",
            " [-4.408       0.4         4.32        7.2       ]\n",
            " [ 7.2        20.         15.         12.        ]\n",
            " [12.         25.          9.         12.        ]\n",
            " [ 7.2        15.          0.4        15.        ]\n",
            " [ 4.32        9.          0.4         9.        ]\n",
            " [12.         20.         25.         20.        ]\n",
            " [15.         25.         15.         19.99999998]\n",
            " [ 9.         15.          9.         25.        ]\n",
            " [ 0.4         9.          9.         15.        ]]\n"
          ],
          "name": "stdout"
        }
      ]
    },
    {
      "cell_type": "code",
      "metadata": {
        "id": "WKFqXbWxz5_S",
        "colab_type": "code",
        "colab": {}
      },
      "source": [
        "\"\"\" Testing agent on deterministic environment\n",
        "    Make sure the correct q table is being used by checking the code block right above this where q is initialized \"\"\"\n",
        "\n",
        "env = Environment()\n",
        "agent = Agent(env)\n",
        "\n",
        "reward_history = []\n",
        "\n",
        "# Formulating MDP\n",
        "for episode in range(1000):\n",
        "    obs, starting_pos = env.reset()\n",
        "    pos = state_lookup[tuple(starting_pos)]\n",
        "    done = False\n",
        "    reward_for_episode = 0\n",
        "\n",
        "    while not done:\n",
        "      action = agent.step(pos)\n",
        "      obs, next_pos, reward, done = env.step(action)\n",
        "      pos = state_lookup[tuple(next_pos)]\n",
        "      reward_for_episode += reward\n",
        "\n",
        "    reward_history.append(reward_for_episode)\n",
        "\n",
        "# print(reward_history)"
      ],
      "execution_count": null,
      "outputs": []
    },
    {
      "cell_type": "code",
      "metadata": {
        "id": "AudQTMNjXai1",
        "colab_type": "code",
        "colab": {}
      },
      "source": [
        "\"\"\" Testing agent on stochastic environment \n",
        "    Make sure the correct q table is being used by checking the code block two blocks above this where q is initialized \"\"\"\n",
        "\n",
        "stoc_env = Stochastic_Environment()\n",
        "agent = Agent(stoc_env)\n",
        "\n",
        "reward_history_stoc = []\n",
        "\n",
        "# Formulating MDP\n",
        "for episode in range(1000):\n",
        "    obs, starting_pos = stoc_env.reset()\n",
        "    pos = state_lookup[tuple(starting_pos)]\n",
        "    done = False\n",
        "    reward_for_episode = 0\n",
        "\n",
        "    while not done:\n",
        "      action = agent.step(pos)\n",
        "      obs, next_pos, reward, done = stoc_env.step(action)\n",
        "      pos = state_lookup[tuple(next_pos)]\n",
        "      reward_for_episode += reward\n",
        "\n",
        "    reward_history_stoc.append(reward_for_episode)\n",
        "\n",
        "# print(reward_history_stoc)\n"
      ],
      "execution_count": null,
      "outputs": []
    },
    {
      "cell_type": "code",
      "metadata": {
        "id": "JZ0y4LXsFZMw",
        "colab_type": "code",
        "colab": {
          "base_uri": "https://localhost:8080/",
          "height": 296
        },
        "outputId": "de4e975f-d3a3-49fc-d82b-5fd2e0319244"
      },
      "source": [
        "window = 50\n",
        "plt.xlabel(\"Episode\")\n",
        "plt.ylabel(\"Rewards\")\n",
        "plt.plot([np.mean(reward_history[tr: tr+window]) for tr in range(window, len(reward_history))])"
      ],
      "execution_count": null,
      "outputs": [
        {
          "output_type": "execute_result",
          "data": {
            "text/plain": [
              "[<matplotlib.lines.Line2D at 0x7fdbcc55dcc0>]"
            ]
          },
          "metadata": {
            "tags": []
          },
          "execution_count": 43
        },
        {
          "output_type": "display_data",
          "data": {
            "image/png": "[encoded data removed]",
            "text/plain": [
              "<Figure size 432x288 with 1 Axes>"
            ]
          },
          "metadata": {
            "tags": [],
            "needs_background": "light"
          }
        }
      ]
    },
    {
      "cell_type": "code",
      "metadata": {
        "id": "vMC6zWZubbnA",
        "colab_type": "code",
        "colab": {}
      },
      "source": [
        "window = 50\n",
        "plt.xlabel(\"Episode\")\n",
        "plt.ylabel(\"Rewards\")\n",
        "plt.plot([np.mean(reward_history_stoc[tr: tr+window]) for tr in range(window, len(reward_history_stoc))])"
      ],
      "execution_count": null,
      "outputs": []
    }
  ]
}